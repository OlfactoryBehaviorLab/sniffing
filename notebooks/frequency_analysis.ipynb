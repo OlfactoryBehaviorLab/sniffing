{
 "cells": [
  {
   "cell_type": "code",
   "execution_count": 1,
   "id": "ff0e5cff8cc0fe8b",
   "metadata": {
    "ExecuteTime": {
     "end_time": "2025-05-07T02:33:49.292376Z",
     "start_time": "2025-05-07T02:33:49.254393Z"
    }
   },
   "outputs": [],
   "source": [
    "%load_ext autoreload\n",
    "%autoreload 2"
   ]
  },
  {
   "cell_type": "code",
   "execution_count": 2,
   "id": "initial_id",
   "metadata": {
    "ExecuteTime": {
     "end_time": "2025-05-07T02:33:53.184398Z",
     "start_time": "2025-05-07T02:33:49.331914Z"
    },
    "collapsed": true
   },
   "outputs": [],
   "source": [
    "from dewan_h5 import DewanH5\n",
    "from sniffing_dynamics.sniffing.helpers import preprocessing, analysis, plotting\n",
    "\n",
    "import pandas as pd\n",
    "import numpy as np\n",
    "from scipy import signal\n",
    "\n",
    "from pathlib import Path"
   ]
  },
  {
   "cell_type": "code",
   "execution_count": 3,
   "id": "d33c157804c8c6e3",
   "metadata": {
    "ExecuteTime": {
     "end_time": "2025-05-07T02:33:55.642047Z",
     "start_time": "2025-05-07T02:33:55.623794Z"
    }
   },
   "outputs": [],
   "source": [
    "## Configurables\n",
    "\n",
    "data_dir = Path(\"/mnt/r2d2/11_Data/GoodSniffData\")\n",
    "h5_files = Path(data_dir).glob(\"*.h5\")\n",
    "\n",
    "lower_filter_band = 0.01  # Lower Frequency (Hz)\n",
    "upper_filter_band = 100  # Upper Frequency (Hz)\n",
    "pre_fv_time = -1000  # ms before FV"
   ]
  },
  {
   "cell_type": "code",
   "execution_count": 4,
   "id": "bef822f875a599b4",
   "metadata": {
    "ExecuteTime": {
     "end_time": "2025-05-07T02:37:47.916208Z",
     "start_time": "2025-05-07T02:35:25.691559Z"
    }
   },
   "outputs": [
    {
     "name": "stdout",
     "output_type": "stream",
     "text": [
      "ERROR! Session/line number was not unique in database. History logging moved to new session 32\n",
      "Processing mouse199_sess1_D2024_12_28T19_2_23.h5\n",
      "Error processing H5 file /mnt/r2d2/11_Data/GoodSniffData/mouse199_sess1_D2024_12_28T19_2_23.h5\n",
      "single positional indexer is out-of-bounds\n",
      "Processing mouse200_sess1_D2024_12_30T15_50_30.h5\n",
      "Error parsing licking and sniffing packets!\n",
      "Error processing H5 file /mnt/r2d2/11_Data/GoodSniffData/mouse200_sess1_D2024_12_30T15_50_30.h5\n",
      "Number of samples, -14241, must be non-negative.\n",
      "Processing mouse200_sess1_D2025_1_3T14_36_32.h5\n",
      "Error parsing licking and sniffing packets!\n",
      "Error processing H5 file /mnt/r2d2/11_Data/GoodSniffData/mouse200_sess1_D2025_1_3T14_36_32.h5\n",
      "Number of samples, -13592, must be non-negative.\n",
      "Processing mouse200_sess1_D2025_1_2T15_24_2.h5\n",
      "Processing mouse199_sess1_D2025_1_2T12_49_55.h5\n",
      "Error parsing licking and sniffing packets!\n",
      "Error processing H5 file /mnt/r2d2/11_Data/GoodSniffData/mouse199_sess1_D2025_1_2T12_49_55.h5\n",
      "Number of samples, -34040, must be non-negative.\n",
      "Processing mouse199_sess1_D2025_1_3T15_26_16.h5\n",
      "Error parsing licking and sniffing packets!\n",
      "Error processing H5 file /mnt/r2d2/11_Data/GoodSniffData/mouse199_sess1_D2025_1_3T15_26_16.h5\n",
      "Number of samples, -19311, must be non-negative.\n",
      "Processing mouse198_sess1_D2025_1_3T12_56_23.h5\n",
      "Error parsing licking and sniffing packets!\n",
      "Error processing H5 file /mnt/r2d2/11_Data/GoodSniffData/mouse198_sess1_D2025_1_3T12_56_23.h5\n",
      "Number of samples, -18356, must be non-negative.\n",
      "Processing mouse198_sess1_D2025_1_2T13_42_54.h5\n",
      "Error processing H5 file /mnt/r2d2/11_Data/GoodSniffData/mouse198_sess1_D2025_1_2T13_42_54.h5\n",
      "'Unable to synchronously open object (addr overflow, addr = 8116859, size = 2816, eoa = 3269379)'\n",
      "Processing mouse193_sess1_D2025_1_2T17_6_10.h5\n",
      "Processing mouse192_sess1_D2025_1_2T14_36_51.h5\n",
      "Processing mouse195_sess1_D2025_1_25T13_34_4.h5\n",
      "Error processing H5 file /mnt/r2d2/11_Data/GoodSniffData/mouse195_sess1_D2025_1_25T13_34_4.h5\n",
      "index 0 is out of bounds for axis 0 with size 0\n",
      "Processing mouse195_sess1_D2025_1_29T15_43_52.h5\n",
      "Error parsing licking and sniffing packets!\n",
      "Error processing H5 file /mnt/r2d2/11_Data/GoodSniffData/mouse195_sess1_D2025_1_29T15_43_52.h5\n",
      "Number of samples, -8462, must be non-negative.\n",
      "Processing mouse200_sess1_D2025_1_27T17_48_14.h5\n",
      "Error processing H5 file /mnt/r2d2/11_Data/GoodSniffData/mouse200_sess1_D2025_1_27T17_48_14.h5\n",
      "index 0 is out of bounds for axis 0 with size 0\n",
      "Processing mouse199_sess1_D2025_1_27T16_52_1.h5\n",
      "Error processing H5 file /mnt/r2d2/11_Data/GoodSniffData/mouse199_sess1_D2025_1_27T16_52_1.h5\n",
      "index 0 is out of bounds for axis 0 with size 0\n",
      "Processing mouse198_sess1_D2025_1_27T15_56_23.h5\n",
      "Error parsing licking and sniffing packets!\n",
      "Error processing H5 file /mnt/r2d2/11_Data/GoodSniffData/mouse198_sess1_D2025_1_27T15_56_23.h5\n",
      "Number of samples, -43863, must be non-negative.\n",
      "Processing mouse194_sess1_D2025_1_25T17_7_7.h5\n"
     ]
    },
    {
     "name": "stderr",
     "output_type": "stream",
     "text": [
      "\n",
      "KeyboardInterrupt\n",
      "\n"
     ]
    }
   ],
   "source": [
    "output_dir = data_dir.joinpath(\"output\")\n",
    "output_dir.mkdir(exist_ok=True)\n",
    "\n",
    "for h5_file_path in h5_files:\n",
    "    try:\n",
    "        print(f\"Processing {h5_file_path.name}\")\n",
    "\n",
    "        with DewanH5(h5_file_path) as h5:\n",
    "            results = pd.DataFrame()\n",
    "            _concentration = h5.concentrations[h5.concentrations > 0][0]\n",
    "            experiment_concentration = \"\".join(\n",
    "                np.format_float_scientific(_concentration, 1).split(\".\")\n",
    "            )\n",
    "            file_output_dir = output_dir.joinpath(\n",
    "                f\"mouse-{h5.mouse}\", experiment_concentration\n",
    "            )\n",
    "\n",
    "            bp_filter = signal.cheby2(\n",
    "                2,\n",
    "                40,\n",
    "                [lower_filter_band, upper_filter_band],\n",
    "                \"bandpass\",\n",
    "                output=\"sos\",\n",
    "                fs=1000,\n",
    "            )\n",
    "            filtered_traces = preprocessing.filter_sniff_traces(\n",
    "                h5.sniff, bp_filter, baseline=True, z_score=True\n",
    "            )\n",
    "\n",
    "            for trial_number in h5.sniff:\n",
    "                raw_data = h5.sniff[trial_number].loc[pre_fv_time:]\n",
    "                filtered_trimmed_trace = filtered_traces[trial_number].loc[pre_fv_time:]\n",
    "                # plotting.plot_multi_traces([raw_data, filtered_trimmed_trace])\n",
    "                inhales, exhales, crossings = preprocessing.get_trace_features(\n",
    "                    filtered_trimmed_trace\n",
    "                )\n",
    "                crossing_pairs = np.fromiter(\n",
    "                    zip(crossings[:-1], crossings[1:], strict=True), dtype=object\n",
    "                )\n",
    "\n",
    "                true_inhales, true_exhales = preprocessing.get_true_peaks(\n",
    "                    inhales, exhales, crossing_pairs\n",
    "                )\n",
    "\n",
    "                true_inhales_post_fv = true_inhales.loc[0:]\n",
    "                first_true_inhale = true_inhales_post_fv.iloc[0]\n",
    "                first_crossing = first_true_inhale[\"crossing\"]\n",
    "\n",
    "                if first_crossing > 0:\n",
    "                    crossings = preprocessing.offset_timestamps(\n",
    "                        first_crossing,\n",
    "                        filtered_trimmed_trace,\n",
    "                        true_inhales,\n",
    "                        true_exhales,\n",
    "                        crossings,\n",
    "                    )\n",
    "                inhale_frequencies, exhale_frequencies, inhale_times, exhale_times = (\n",
    "                    analysis.calc_frequencies(true_inhales, true_exhales)\n",
    "                )\n",
    "\n",
    "                _columns = pd.MultiIndex.from_product(\n",
    "                    [[trial_number], [\"inhale_time\", \"inhale_freq\"]],\n",
    "                    names=[\"Trial\", \"Data\"],\n",
    "                )\n",
    "                all_trial_data = pd.DataFrame(\n",
    "                    zip(inhale_times, inhale_frequencies, strict=True), columns=_columns\n",
    "                )\n",
    "\n",
    "                results = pd.concat([results, all_trial_data], axis=1)\n",
    "\n",
    "                plot_output_dir = file_output_dir.joinpath(\"figures\")\n",
    "                plot_output_dir.mkdir(exist_ok=True, parents=True)\n",
    "                plotting.plot_crossing_frequencies(\n",
    "                    filtered_trimmed_trace,\n",
    "                    true_inhales,\n",
    "                    true_exhales,\n",
    "                    inhale_frequencies,\n",
    "                    exhale_frequencies,\n",
    "                    inhale_times,\n",
    "                    exhale_times,\n",
    "                    crossings,\n",
    "                    trial_number,\n",
    "                    plot_output_dir,\n",
    "                )\n",
    "            results_path = file_output_dir.joinpath(\n",
    "                f\"mouse-{h5.mouse}-{experiment_concentration}.xlsx\"\n",
    "            )\n",
    "            results.to_excel(results_path)\n",
    "    except Exception as e:\n",
    "        print(f\"Error processing H5 file {h5_file_path}\")\n",
    "        print(e)"
   ]
  },
  {
   "cell_type": "code",
   "execution_count": null,
   "id": "1befaf75f09a7700",
   "metadata": {},
   "outputs": [],
   "source": []
  }
 ],
 "metadata": {
  "kernelspec": {
   "display_name": "Python 3",
   "language": "python",
   "name": "python3"
  },
  "language_info": {
   "codemirror_mode": {
    "name": "ipython",
    "version": 2
   },
   "file_extension": ".py",
   "mimetype": "text/x-python",
   "name": "python",
   "nbconvert_exporter": "python",
   "pygments_lexer": "ipython2",
   "version": "2.7.6"
  }
 },
 "nbformat": 4,
 "nbformat_minor": 5
}
