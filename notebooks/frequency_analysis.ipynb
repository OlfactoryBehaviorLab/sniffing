{
 "cells": [
  {
   "metadata": {
    "ExecuteTime": {
     "end_time": "2025-05-07T02:12:31.265841Z",
     "start_time": "2025-05-07T02:12:31.240803Z"
    }
   },
   "cell_type": "code",
   "source": [
    "%load_ext autoreload\n",
    "%autoreload 2"
   ],
   "id": "ff0e5cff8cc0fe8b",
   "outputs": [
    {
     "name": "stdout",
     "output_type": "stream",
     "text": [
      "The autoreload extension is already loaded. To reload it, use:\n",
      "  %reload_ext autoreload\n"
     ]
    }
   ],
   "execution_count": 33
  },
  {
   "metadata": {
    "collapsed": true,
    "ExecuteTime": {
     "end_time": "2025-05-07T02:12:31.644187Z",
     "start_time": "2025-05-07T02:12:31.630716Z"
    }
   },
   "cell_type": "code",
   "source": [
    "from dewan_h5 import DewanH5\n",
    "from sniffing_dynamics.sniffing import preprocessing, plotting, analysis\n",
    "\n",
    "import pandas as pd\n",
    "import numpy as np\n",
    "from scipy import signal\n",
    "\n",
    "from pathlib import Path"
   ],
   "id": "initial_id",
   "outputs": [],
   "execution_count": 34
  },
  {
   "metadata": {
    "ExecuteTime": {
     "end_time": "2025-05-07T02:13:02.195363Z",
     "start_time": "2025-05-07T02:13:02.184376Z"
    }
   },
   "cell_type": "code",
   "source": [
    "## Configurables\n",
    "\n",
    "data_dir = Path('/mnt/r2d2/11_Data/GoodSniffData')\n",
    "h5_files = Path(data_dir).glob('*.h5')\n",
    "\n",
    "lower_filter_band = 0.01  # Lower Frequency (Hz)\n",
    "upper_filter_band = 100  # Upper Frequency (Hz)\n",
    "pre_fv_time = -1000  # ms before FV"
   ],
   "id": "d33c157804c8c6e3",
   "outputs": [],
   "execution_count": 39
  },
  {
   "metadata": {
    "jupyter": {
     "is_executing": true
    },
    "ExecuteTime": {
     "start_time": "2025-05-07T02:13:18.365624Z"
    }
   },
   "cell_type": "code",
   "source": [
    "\n",
    "output_dir = data_dir.joinpath('output')\n",
    "output_dir.mkdir(exist_ok=True)\n",
    "\n",
    "for h5_file_path in h5_files:\n",
    "    try:\n",
    "        print(f'Processing {h5_file_path.name}')\n",
    "\n",
    "        with DewanH5(h5_file_path) as h5:\n",
    "            results = pd.DataFrame()\n",
    "            _concentration = h5.concentrations[h5.concentrations > 0][0]\n",
    "            experiment_concentration = \"\".join(np.format_float_scientific(_concentration, 1).split('.'))\n",
    "            file_output_dir = output_dir.joinpath(f'mouse-{h5.mouse}', experiment_concentration)\n",
    "\n",
    "            bp_filter = signal.cheby2(2, 40, [lower_filter_band, upper_filter_band], 'bandpass', output='sos', fs=1000)\n",
    "            filtered_traces = preprocessing.filter_sniff_traces(h5.sniff, bp_filter, baseline=True, z_score=True)\n",
    "\n",
    "\n",
    "            for trial_number in h5.sniff.keys():\n",
    "                raw_data = h5.sniff[trial_number].loc[pre_fv_time:]\n",
    "                filtered_trimmed_trace = filtered_traces[trial_number].loc[pre_fv_time:]\n",
    "                # plotting.plot_multi_traces([raw_data, filtered_trimmed_trace])\n",
    "                inhales, exhales, crossings = preprocessing.get_trace_features(filtered_trimmed_trace)\n",
    "                crossing_pairs = np.fromiter(zip(crossings[:-1], crossings[1:]), dtype=object)\n",
    "\n",
    "                true_inhales, true_exhales = preprocessing.get_true_peaks(inhales, exhales, crossing_pairs)\n",
    "\n",
    "                true_inhales_post_fv = true_inhales.loc[0:]\n",
    "                first_true_inhale = true_inhales_post_fv.iloc[0]\n",
    "                first_crossing = first_true_inhale['crossing']\n",
    "\n",
    "                if first_crossing > 0:\n",
    "                    crossings = preprocessing.offset_timestamps(first_crossing, filtered_trimmed_trace, true_inhales, true_exhales, crossings)\n",
    "                inhale_frequencies, exhale_frequencies, inhale_times, exhale_times = analysis.calc_frequencies(true_inhales, true_exhales)\n",
    "\n",
    "                _columns = pd.MultiIndex.from_product([[trial_number], ['inhale_time', 'inhale_freq']], names=['Trial', 'Data'])\n",
    "                all_trial_data = pd.DataFrame(zip(inhale_times, inhale_frequencies), columns=_columns)\n",
    "\n",
    "                results = pd.concat([results, all_trial_data], axis=1)\n",
    "\n",
    "                plot_output_dir = file_output_dir.joinpath('figures')\n",
    "                plot_output_dir.mkdir(exist_ok=True, parents=True)\n",
    "                plotting.plot_crossing_frequencies(filtered_trimmed_trace, true_inhales, true_exhales, inhale_frequencies, exhale_frequencies, inhale_times, exhale_times, crossings, trial_number, plot_output_dir)\n",
    "            results_path = file_output_dir.joinpath(f'mouse-{h5.mouse}-{experiment_concentration}.xlsx')\n",
    "            results.to_excel(results_path)\n",
    "    except Exception:\n",
    "        print(f'Error processing H5 file {h5_file_path}')"
   ],
   "id": "bef822f875a599b4",
   "outputs": [
    {
     "name": "stdout",
     "output_type": "stream",
     "text": [
      "Processing mouse191_sess1_D2024_12_31T10_57_0.h5\n",
      "Error parsing licking and sniffing packets!\n",
      "Error processing H5 file /mnt/r2d2/11_Data/GoodSniffData/mouse191_sess1_D2024_12_31T10_57_0.h5\n",
      "Processing mouse192_sess1_D2024_12_30T11_42_20.h5\n"
     ]
    }
   ],
   "execution_count": null
  },
  {
   "metadata": {},
   "cell_type": "code",
   "outputs": [],
   "execution_count": null,
   "source": "",
   "id": "1befaf75f09a7700"
  }
 ],
 "metadata": {
  "kernelspec": {
   "display_name": "Python 3",
   "language": "python",
   "name": "python3"
  },
  "language_info": {
   "codemirror_mode": {
    "name": "ipython",
    "version": 2
   },
   "file_extension": ".py",
   "mimetype": "text/x-python",
   "name": "python",
   "nbconvert_exporter": "python",
   "pygments_lexer": "ipython2",
   "version": "2.7.6"
  }
 },
 "nbformat": 4,
 "nbformat_minor": 5
}
