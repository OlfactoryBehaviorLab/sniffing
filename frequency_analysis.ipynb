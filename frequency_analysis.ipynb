{
 "cells": [
  {
   "metadata": {},
   "cell_type": "code",
   "source": [
    "%load_ext autoreload\n",
    "%autoreload 2"
   ],
   "id": "ff0e5cff8cc0fe8b",
   "outputs": [],
   "execution_count": null
  },
  {
   "metadata": {
    "collapsed": true
   },
   "cell_type": "code",
   "source": [
    "from dewan_h5.dewan_h5 import DewanH5\n",
    "\n",
    "import matplotlib.pyplot as plt\n",
    "import numpy as np\n",
    "from scipy import signal\n",
    "import pathlib"
   ],
   "id": "initial_id",
   "outputs": [],
   "execution_count": null
  },
  {
   "metadata": {},
   "cell_type": "code",
   "source": [
    "h5_file = []\n",
    "\n",
    "with DewanH5('../dewan_h5/data/mouse195_sess1_D2025_1_5T15_10_50.h5') as h5:\n",
    "    h5_file = h5"
   ],
   "id": "d4c5867ec2018ceb",
   "outputs": [],
   "execution_count": null
  },
  {
   "metadata": {},
   "cell_type": "code",
   "source": "print(h5_file)",
   "id": "1a3ea82ff52d7762",
   "outputs": [],
   "execution_count": null
  },
  {
   "metadata": {},
   "cell_type": "code",
   "source": [
    "sniff_trials = list(h5_file.sniff.keys())\n",
    "first_sniff = h5_file.sniff[sniff_trials[0]]\n",
    "first_sniff_shift = first_sniff - min(first_sniff)\n",
    "first_sniff_shift = first_sniff_shift - first_sniff_shift.iloc[0]\n",
    "[beta, alpha] = signal.butter(4, 0.5, btype='highpass', fs=360)\n",
    "filtered = signal.filtfilt(beta, alpha, first_sniff)\n",
    "filtered = filtered  - filtered[0]"
   ],
   "id": "62d27ebf707da611",
   "outputs": [],
   "execution_count": null
  },
  {
   "metadata": {},
   "cell_type": "code",
   "source": [
    "fig, ax = plt.subplots(figsize=(20,4))\n",
    "#https://stackoverflow.com/questions/76502819/how-to-flatten-a-digital-signal-whose-baseline-jumps-up-and-down-with-python\n",
    "x_vals = list(range(len(first_sniff)))\n",
    "_ = ax.plot(x_vals, first_sniff_shift)\n",
    "_ = ax.plot(x_vals, filtered)\n",
    "_ = ax.hlines(y=[0], xmin=0, xmax=x_vals[-1])"
   ],
   "id": "31758f6db1097f06",
   "outputs": [],
   "execution_count": null
  },
  {
   "metadata": {},
   "cell_type": "code",
   "source": "",
   "id": "1c231fdc8904ca0d",
   "outputs": [],
   "execution_count": null
  }
 ],
 "metadata": {
  "kernelspec": {
   "display_name": "Python 3",
   "language": "python",
   "name": "python3"
  },
  "language_info": {
   "codemirror_mode": {
    "name": "ipython",
    "version": 2
   },
   "file_extension": ".py",
   "mimetype": "text/x-python",
   "name": "python",
   "nbconvert_exporter": "python",
   "pygments_lexer": "ipython2",
   "version": "2.7.6"
  }
 },
 "nbformat": 4,
 "nbformat_minor": 5
}
